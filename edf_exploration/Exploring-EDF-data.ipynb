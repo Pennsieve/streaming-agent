{
 "cells": [
  {
   "cell_type": "markdown",
   "id": "0f98cc94",
   "metadata": {},
   "source": [
    "# Exploring EDF Data"
   ]
  },
  {
   "cell_type": "markdown",
   "id": "d524d7b1",
   "metadata": {},
   "source": [
    "## European Data Format (EDF)\n",
    "\n",
    "> EDF European Data Format\n",
    "European Data Format (EDF) is a standard file format designed for exchange and storage of medical time series. Being an open and non-proprietary format, EDF(+) is commonly used to archive, exchange and analyse data from commercial devices in a format that is independent of the acquisition system.\n",
    "\n",
    "- https://www.edfplus.info\n",
    "- https://pyedflib.readthedocs.io/en/latest/\n",
    "  - https://github.com/holgern/pyedflib/\n",
    "  - https://pypi.org/project/pyEDFlib/\n",
    "- https://stackoverflow.com/questions/51869713/how-to-read-edf-data-in-python-3\n",
    "- https://mne.tools/stable/generated/mne.io.read_raw_edf.html\n",
    "- https://github.com/cleemesser/python-edf"
   ]
  },
  {
   "cell_type": "markdown",
   "id": "347fa676",
   "metadata": {},
   "source": [
    "## Open File and Inspect Summary Info"
   ]
  },
  {
   "cell_type": "code",
   "execution_count": 1,
   "id": "369d0287",
   "metadata": {},
   "outputs": [],
   "source": [
    "import pyedflib"
   ]
  },
  {
   "cell_type": "code",
   "execution_count": 2,
   "id": "9daf9260",
   "metadata": {},
   "outputs": [],
   "source": [
    "file_path = \"/Users/michael/DataFiles/Time-series/EDF/test.edf\""
   ]
  },
  {
   "cell_type": "code",
   "execution_count": 3,
   "id": "a6cb5635",
   "metadata": {},
   "outputs": [],
   "source": [
    "edf = pyedflib.EdfReader(file_path)"
   ]
  },
  {
   "cell_type": "code",
   "execution_count": 4,
   "id": "8b110965",
   "metadata": {},
   "outputs": [
    {
     "data": {
      "text/plain": [
       "pyedflib.edfreader.EdfReader"
      ]
     },
     "execution_count": 4,
     "metadata": {},
     "output_type": "execute_result"
    }
   ],
   "source": [
    "type(edf)"
   ]
  },
  {
   "cell_type": "code",
   "execution_count": 5,
   "id": "26076c9b",
   "metadata": {},
   "outputs": [
    {
     "data": {
      "text/plain": [
       "{'technician': 'Mr. Spotty',\n",
       " 'recording_additional': 'unit test file',\n",
       " 'patientname': 'Hans Muller',\n",
       " 'patient_additional': 'patient',\n",
       " 'patientcode': 'abcxyz99',\n",
       " 'equipment': 'test generator',\n",
       " 'admincode': 'Dr. X',\n",
       " 'gender': 'Male',\n",
       " 'startdate': datetime.datetime(2011, 4, 4, 12, 57, 2),\n",
       " 'birthdate': '30 jun 1969'}"
      ]
     },
     "execution_count": 5,
     "metadata": {},
     "output_type": "execute_result"
    }
   ],
   "source": [
    "edf.getHeader()"
   ]
  },
  {
   "cell_type": "code",
   "execution_count": 6,
   "id": "8d72cac4",
   "metadata": {},
   "outputs": [
    {
     "name": "stdout",
     "output_type": "stream",
     "text": [
      "file name: /Users/michael/DataFiles/Time-series/EDF/test.edf\n",
      "signals in file: 11\n"
     ]
    }
   ],
   "source": [
    "edf.file_info()"
   ]
  },
  {
   "cell_type": "code",
   "execution_count": 7,
   "id": "47f85719",
   "metadata": {},
   "outputs": [
    {
     "name": "stdout",
     "output_type": "stream",
     "text": [
      "file name: /Users/michael/DataFiles/Time-series/EDF/test.edf\n",
      "signals in file: 11\n",
      "label: squarewave fs: 200 nsamples 120000\n",
      "label: ramp fs: 200 nsamples 120000\n",
      "label: pulse fs: 200 nsamples 120000\n",
      "label: noise fs: 200 nsamples 120000\n",
      "label: sine 1 Hz fs: 200 nsamples 120000\n",
      "label: sine 8 Hz fs: 200 nsamples 120000\n",
      "label: sine 8.1777 Hz fs: 200 nsamples 120000\n",
      "label: sine 8.5 Hz fs: 200 nsamples 120000\n",
      "label: sine 15 Hz fs: 200 nsamples 120000\n",
      "label: sine 17 Hz fs: 200 nsamples 120000\n",
      "label: sine 50 Hz fs: 200 nsamples 120000\n"
     ]
    }
   ],
   "source": [
    "edf.file_info_long()"
   ]
  },
  {
   "cell_type": "code",
   "execution_count": 8,
   "id": "46eab172",
   "metadata": {},
   "outputs": [
    {
     "data": {
      "text/plain": [
       "['squarewave',\n",
       " 'ramp',\n",
       " 'pulse',\n",
       " 'noise',\n",
       " 'sine 1 Hz',\n",
       " 'sine 8 Hz',\n",
       " 'sine 8.1777 Hz',\n",
       " 'sine 8.5 Hz',\n",
       " 'sine 15 Hz',\n",
       " 'sine 17 Hz',\n",
       " 'sine 50 Hz']"
      ]
     },
     "execution_count": 8,
     "metadata": {},
     "output_type": "execute_result"
    }
   ],
   "source": [
    "edf.getSignalLabels()"
   ]
  },
  {
   "cell_type": "code",
   "execution_count": 9,
   "id": "9a176125",
   "metadata": {},
   "outputs": [
    {
     "name": "stdout",
     "output_type": "stream",
     "text": [
      "2011-04-04 12:57:02\n"
     ]
    }
   ],
   "source": [
    "print(edf.getStartdatetime())"
   ]
  },
  {
   "cell_type": "code",
   "execution_count": 10,
   "id": "762158f4",
   "metadata": {},
   "outputs": [
    {
     "data": {
      "text/plain": [
       "600"
      ]
     },
     "execution_count": 10,
     "metadata": {},
     "output_type": "execute_result"
    }
   ],
   "source": [
    "edf.getFileDuration()"
   ]
  },
  {
   "cell_type": "code",
   "execution_count": 11,
   "id": "0af140ab",
   "metadata": {},
   "outputs": [
    {
     "data": {
      "text/plain": [
       "array([200, 200, 200, 200, 200, 200, 200, 200, 200, 200, 200])"
      ]
     },
     "execution_count": 11,
     "metadata": {},
     "output_type": "execute_result"
    }
   ],
   "source": [
    "edf.getSampleFrequencies()"
   ]
  },
  {
   "cell_type": "code",
   "execution_count": 12,
   "id": "4f259ea6",
   "metadata": {},
   "outputs": [
    {
     "data": {
      "text/plain": [
       "array([120000, 120000, 120000, 120000, 120000, 120000, 120000, 120000,\n",
       "       120000, 120000, 120000])"
      ]
     },
     "execution_count": 12,
     "metadata": {},
     "output_type": "execute_result"
    }
   ],
   "source": [
    "edf.getNSamples()"
   ]
  },
  {
   "cell_type": "markdown",
   "id": "9ed574cc",
   "metadata": {},
   "source": [
    "## Look at one of the signals"
   ]
  },
  {
   "cell_type": "code",
   "execution_count": 103,
   "id": "9e00aca2",
   "metadata": {},
   "outputs": [],
   "source": [
    "channel = 0"
   ]
  },
  {
   "cell_type": "code",
   "execution_count": 104,
   "id": "1a1a462c",
   "metadata": {},
   "outputs": [],
   "source": [
    "signal = edf.readSignal(channel)"
   ]
  },
  {
   "cell_type": "code",
   "execution_count": 105,
   "id": "dde2aa62",
   "metadata": {},
   "outputs": [
    {
     "data": {
      "text/plain": [
       "array([ 99.99237049,  99.99237049,  99.99237049, ..., -99.96185245,\n",
       "       -99.96185245, -99.96185245])"
      ]
     },
     "execution_count": 105,
     "metadata": {},
     "output_type": "execute_result"
    }
   ],
   "source": [
    "signal"
   ]
  },
  {
   "cell_type": "code",
   "execution_count": 106,
   "id": "4179d78e",
   "metadata": {},
   "outputs": [
    {
     "data": {
      "text/plain": [
       "120000"
      ]
     },
     "execution_count": 106,
     "metadata": {},
     "output_type": "execute_result"
    }
   ],
   "source": [
    "len(signal)"
   ]
  },
  {
   "cell_type": "code",
   "execution_count": 107,
   "id": "d17e69d1",
   "metadata": {},
   "outputs": [
    {
     "data": {
      "text/plain": [
       "{'label': 'squarewave',\n",
       " 'dimension': 'uV',\n",
       " 'sample_rate': 200.0,\n",
       " 'sample_frequency': 200.0,\n",
       " 'physical_max': 1000.0,\n",
       " 'physical_min': -1000.0,\n",
       " 'digital_max': 32767,\n",
       " 'digital_min': -32768,\n",
       " 'prefilter': 'pre1',\n",
       " 'transducer': 'trans1'}"
      ]
     },
     "execution_count": 107,
     "metadata": {},
     "output_type": "execute_result"
    }
   ],
   "source": [
    "edf.getSignalHeader(channel)"
   ]
  },
  {
   "cell_type": "code",
   "execution_count": 108,
   "id": "ab6f6e37",
   "metadata": {},
   "outputs": [
    {
     "data": {
      "text/plain": [
       "200"
      ]
     },
     "execution_count": 108,
     "metadata": {},
     "output_type": "execute_result"
    }
   ],
   "source": [
    "edf.getSampleFrequencies()[channel]"
   ]
  },
  {
   "cell_type": "code",
   "execution_count": 109,
   "id": "0f2ff096",
   "metadata": {},
   "outputs": [],
   "source": [
    "import matplotlib.pyplot as plt"
   ]
  },
  {
   "cell_type": "code",
   "execution_count": 110,
   "id": "0131b39b",
   "metadata": {},
   "outputs": [],
   "source": [
    "%matplotlib inline"
   ]
  },
  {
   "cell_type": "code",
   "execution_count": 121,
   "id": "17c91487",
   "metadata": {},
   "outputs": [
    {
     "data": {
      "text/plain": [
       "[<matplotlib.lines.Line2D at 0x7f8d3039cd00>]"
      ]
     },
     "execution_count": 121,
     "metadata": {},
     "output_type": "execute_result"
    },
    {
     "data": {
      "image/png": "[encoded data removed]",
      "text/plain": [
       "<Figure size 432x288 with 1 Axes>"
      ]
     },
     "metadata": {
      "needs_background": "light"
     },
     "output_type": "display_data"
    }
   ],
   "source": [
    "portion = 8\n",
    "plt.plot(signal[0:int(len(signals[0])/portion)])"
   ]
  },
  {
   "cell_type": "markdown",
   "id": "5990c212",
   "metadata": {},
   "source": [
    "## Dealing with Time"
   ]
  },
  {
   "cell_type": "code",
   "execution_count": 37,
   "id": "d8a65504",
   "metadata": {},
   "outputs": [],
   "source": [
    "import datetime"
   ]
  },
  {
   "cell_type": "markdown",
   "id": "e8f74bce",
   "metadata": {},
   "source": [
    "The EDF file will tell us the date and time that the collection started."
   ]
  },
  {
   "cell_type": "code",
   "execution_count": 30,
   "id": "e851117a",
   "metadata": {},
   "outputs": [
    {
     "data": {
      "text/plain": [
       "datetime.datetime(2011, 4, 4, 12, 57, 2)"
      ]
     },
     "execution_count": 30,
     "metadata": {},
     "output_type": "execute_result"
    }
   ],
   "source": [
    "edf.getStartdatetime()"
   ]
  },
  {
   "cell_type": "markdown",
   "id": "b6ef150a",
   "metadata": {},
   "source": [
    "And the EDF file will tell us the sampling frequency of each channel -- this is the number of time-series observations per second. We could rightfully assume that the values are observed at a uniform temporal distance from each other."
   ]
  },
  {
   "cell_type": "code",
   "execution_count": 63,
   "id": "2b9fa90c",
   "metadata": {},
   "outputs": [
    {
     "data": {
      "text/plain": [
       "200"
      ]
     },
     "execution_count": 63,
     "metadata": {},
     "output_type": "execute_result"
    }
   ],
   "source": [
    "edf.getSampleFrequencies()[channel]"
   ]
  },
  {
   "cell_type": "markdown",
   "id": "269081ec",
   "metadata": {},
   "source": [
    "The plot above of this channel shows a square wave. The value oscilates from approximately +100 to approximately -100 every 1000 samples. For this signal, the approximateed amount of time between oscillations is computed as:"
   ]
  },
  {
   "cell_type": "code",
   "execution_count": 32,
   "id": "16ba0065",
   "metadata": {},
   "outputs": [
    {
     "data": {
      "text/plain": [
       "5.0"
      ]
     },
     "execution_count": 32,
     "metadata": {},
     "output_type": "execute_result"
    }
   ],
   "source": [
    "1000/200"
   ]
  },
  {
   "cell_type": "markdown",
   "id": "34657421",
   "metadata": {},
   "source": [
    "The waveform oscilates every five seconds."
   ]
  },
  {
   "cell_type": "markdown",
   "id": "77e44f6b",
   "metadata": {},
   "source": [
    "The total duration captured in this EDF file is `edf.getFileDuration()` seconds:"
   ]
  },
  {
   "cell_type": "code",
   "execution_count": 113,
   "id": "5f1c3d02",
   "metadata": {},
   "outputs": [
    {
     "data": {
      "text/plain": [
       "600"
      ]
     },
     "execution_count": 113,
     "metadata": {},
     "output_type": "execute_result"
    }
   ],
   "source": [
    "edf.getFileDuration()"
   ]
  },
  {
   "cell_type": "markdown",
   "id": "3ab39d87",
   "metadata": {},
   "source": [
    "The EDF file contains 600 seconds (10 minutes) of data."
   ]
  },
  {
   "cell_type": "markdown",
   "id": "f7932588",
   "metadata": {},
   "source": [
    "Next we can determine the absolute start and end time for this file:"
   ]
  },
  {
   "cell_type": "code",
   "execution_count": 114,
   "id": "3319d569",
   "metadata": {},
   "outputs": [],
   "source": [
    "start_time = edf.getStartdatetime()"
   ]
  },
  {
   "cell_type": "code",
   "execution_count": 115,
   "id": "da357855",
   "metadata": {},
   "outputs": [],
   "source": [
    "delta_time = datetime.timedelta(seconds = edf.getFileDuration())"
   ]
  },
  {
   "cell_type": "code",
   "execution_count": 116,
   "id": "ab6a5d66",
   "metadata": {},
   "outputs": [],
   "source": [
    "end_time = start_time + delta_time"
   ]
  },
  {
   "cell_type": "code",
   "execution_count": 117,
   "id": "334795b8",
   "metadata": {},
   "outputs": [
    {
     "name": "stdout",
     "output_type": "stream",
     "text": [
      "The EDF file contains data from 2011-04-04 12:57:02 to 2011-04-04 13:07:02\n"
     ]
    }
   ],
   "source": [
    "print(f\"The EDF file contains data from {start_time} to {end_time}\")"
   ]
  },
  {
   "cell_type": "markdown",
   "id": "f51aac1c",
   "metadata": {},
   "source": [
    "## Close file"
   ]
  },
  {
   "cell_type": "code",
   "execution_count": null,
   "id": "e90a091b",
   "metadata": {},
   "outputs": [],
   "source": [
    "edf.close()"
   ]
  },
  {
   "cell_type": "code",
   "execution_count": null,
   "id": "4cca06f8",
   "metadata": {},
   "outputs": [],
   "source": []
  }
 ],
 "metadata": {
  "kernelspec": {
   "display_name": "Python 3 (ipykernel)",
   "language": "python",
   "name": "python3"
  },
  "language_info": {
   "codemirror_mode": {
    "name": "ipython",
    "version": 3
   },
   "file_extension": ".py",
   "mimetype": "text/x-python",
   "name": "python",
   "nbconvert_exporter": "python",
   "pygments_lexer": "ipython3",
   "version": "3.9.7"
  },
  "toc": {
   "base_numbering": 1,
   "nav_menu": {},
   "number_sections": false,
   "sideBar": false,
   "skip_h1_title": false,
   "title_cell": "Table of Contents",
   "title_sidebar": "Contents",
   "toc_cell": false,
   "toc_position": {},
   "toc_section_display": false,
   "toc_window_display": false
  }
 },
 "nbformat": 4,
 "nbformat_minor": 5
}
